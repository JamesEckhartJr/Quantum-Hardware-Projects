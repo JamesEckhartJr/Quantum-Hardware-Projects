{
  "nbformat": 4,
  "nbformat_minor": 0,
  "metadata": {
    "colab": {
      "provenance": [],
      "authorship_tag": "ABX9TyNhG/X2cFBXAavdBa4kmzVd",
      "include_colab_link": true
    },
    "kernelspec": {
      "name": "python3",
      "display_name": "Python 3"
    },
    "language_info": {
      "name": "python"
    }
  },
  "cells": [
    {
      "cell_type": "markdown",
      "metadata": {
        "id": "view-in-github",
        "colab_type": "text"
      },
      "source": [
        "<a href=\"https://colab.research.google.com/github/JamesEckhartJr/Quantum-Hardware-Projects/blob/main/Warnings_Removed_Quantum_Coin_Toss_QASM.ipynb\" target=\"_parent\"><img src=\"https://colab.research.google.com/assets/colab-badge.svg\" alt=\"Open In Colab\"/></a>"
      ]
    },
    {
      "cell_type": "code",
      "execution_count": 3,
      "metadata": {
        "id": "kuYKPAvo33Qb"
      },
      "outputs": [],
      "source": []
    },
    {
      "cell_type": "code",
      "execution_count": 4,
      "metadata": {
        "colab": {
          "base_uri": "https://localhost:8080/"
        },
        "id": "ZUdGxZ8TvH24",
        "outputId": "e9ec7306-e874-4cbb-9f47-2940c015ed69"
      },
      "outputs": [
        {
          "output_type": "stream",
          "name": "stdout",
          "text": [
            "\n",
            "OPENQASM 2.0;\n",
            "\n",
            "qreg q[1];\n",
            "\n",
            "creg c[1];\n",
            "\n",
            "h q[0];\n",
            "\n",
            "measure q[0] -> c[0];\n",
            "\n",
            "{'error': 'no error', 'error_code': 0, 'result': {'c': [[0], [1], [0], [1], [0], [0], [0], [1], [0], [1]]}}\n"
          ]
        }
      ],
      "source": [
        "# Second Quantum Emulator Program\n",
        "# QASM 'Quantum Coin Toss'\n",
        "# Author: James Eckhart, Jr.\n",
        "\n",
        "# Note 1: QASM, or OpenQASM, is a programming language designed for\n",
        "# describing quantum circuits and algorithms, particularly for use\n",
        "# with quantum computers. It's an imperative language that uses the\n",
        "# quantum circuit model to express programs as ordered sequences of\n",
        "# operations (like gates, measurements, and resets) and classical\n",
        "# computation.\n",
        "\n",
        "# Note 2: QASM (Quantum Assembly Language) is a low-level language for\n",
        "# describing quantum circuits, while Qiskit is a higher-level Python-based\n",
        "# framework for building and running quantum programs, including those written\n",
        "# in QASM. Qiskit provides tools to work with quantum circuits, algorithms, and\n",
        "# even interact with real quantum hardware, while QASM is primarily used as an\n",
        "# intermediate representation and for describing circuits at a more granular\n",
        "# level.\n",
        "\n",
        "#Start QASM -- text based language. Opens the same on every program.\n",
        "program = \"\"\"\n",
        "OPENQASM 2.0;\n",
        "\"\"\"\n",
        "\n",
        "#Create 'Quantum Register' and specify the number of qubits -- in this\n",
        "#case one qubit for coin toss. Quantum Circuit -- Single Line\n",
        "program += \"\"\"\n",
        "qreg q[1];\n",
        "\"\"\"\n",
        "\n",
        "#Create 'Classical Register' where the results of measurements are stored.\n",
        "#Classical Circuit -- Double Line\n",
        "program += \"\"\"\n",
        "creg c[1];\n",
        "\"\"\"\n",
        "\n",
        "#Apply 'Quantum Instruction/Transformation' or 'Gate\" to qubit using a Hadamard\n",
        "#Gate -- a fundamental single-qubit quantum gate that creates a superposition of\n",
        "# states. It transforms a qubit from a definite state (either |0⟩ or |1⟩) into an\n",
        "# equal superposition of both |0⟩ and |1⟩, effectively creating a \"maybe\" state\n",
        "# where both possibilities are explored simultaneously. This ability to create\n",
        "#superpositions is crucial for the power of quantum algorithms.\n",
        "program += \"\"\"\n",
        "h q[0];\n",
        "\"\"\"\n",
        "\n",
        "#Next we 'read' or 'measure' the qubit and store the bit value in a classical\n",
        "#register\n",
        "program += \"\"\"\n",
        "measure q[0] -> c[0];\n",
        "\"\"\"\n",
        "\n",
        "print(program)\n",
        "\n",
        "#Data handling and communication protocols -- Import JSON for working with\n",
        "#JavaScript Object Notation and making HTTP requests to 'Quantum Emulator'\n",
        "import json\n",
        "import requests\n",
        "\n",
        "#Suppress warnings (optional, but needed for visual output)\n",
        "from requests.packages.urllib3.exceptions import InsecureRequestWarning\n",
        "requests.packages.urllib3.disable_warnings(InsecureRequestWarning)  # Disable warnings about insecure requests\n",
        "\n",
        "#Quantum Emulator address\n",
        "request_http = 'http://{}.quokkacomputing.com/qsim/qasm'.format('theq-ae31b1')\n",
        "\n",
        "#Create Dictionary\n",
        "data = {\n",
        "    'script': program,\n",
        "    'count': 10\n",
        "}\n",
        "\n",
        "#Send Request\n",
        "result = requests.post(request_http, json=data, verify=False)\n",
        "\n",
        "#Load Into Python Dictionary\n",
        "json_obj = json.loads(result.content)\n",
        "\n",
        "#Print keys and entries\n",
        "print(json_obj)"
      ]
    }
  ]
}